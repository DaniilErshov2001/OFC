{
 "cells": [
  {
   "cell_type": "code",
   "execution_count": null,
   "id": "a60728b8-ed3e-4903-8bad-4f3fac6215cc",
   "metadata": {},
   "outputs": [],
   "source": [
    "import numpy as np\n",
    "from scipy.optimize import minimize"
   ]
  },
  {
   "cell_type": "code",
   "execution_count": 10,
   "id": "13726563-4efb-4ad6-8656-4034efd62999",
   "metadata": {},
   "outputs": [
    {
     "name": "stdout",
     "output_type": "stream",
     "text": [
      "x =  3.000000954208383\n",
      "y =  0.5000002666553034\n"
     ]
    }
   ],
   "source": [
    "# Пример двумерной функции\n",
    "def func(target):\n",
    "    # x[0] - это первая переменная, x[1] - вторая\n",
    "    x = target[0]\n",
    "    y = target[1]\n",
    "    return (1.5 - x + x * y) ** 2 + (2.25 - x + x * y ** 2) ** 2 + (2.625 - x + x * y ** 3) ** 2\n",
    "\n",
    "# Границы для каждой из переменных\n",
    "bounds = [(-4.5, 4.5), (-4.5, 4.5)]  # x[0] в пределах [0, 4], x[1] в пределах [1, 5]\n",
    "\n",
    "# Начальная точка для оптимизации\n",
    "initial_guess = [0, 0]\n",
    "\n",
    "# Поиск минимума с использованием метода BFGS (или другого метода)\n",
    "result = minimize(func, initial_guess, method='L-BFGS-B', bounds=bounds)\n",
    "\n",
    "print(\"x = \", result.x[0])\n",
    "print(\"y = \", result.x[1])"
   ]
  },
  {
   "cell_type": "code",
   "execution_count": null,
   "id": "6a4fb9a4-9de6-4a41-8f4b-dfdffc6c0877",
   "metadata": {},
   "outputs": [],
   "source": []
  }
 ],
 "metadata": {
  "kernelspec": {
   "display_name": "Python 3 (ipykernel)",
   "language": "python",
   "name": "python3"
  },
  "language_info": {
   "codemirror_mode": {
    "name": "ipython",
    "version": 3
   },
   "file_extension": ".py",
   "mimetype": "text/x-python",
   "name": "python",
   "nbconvert_exporter": "python",
   "pygments_lexer": "ipython3",
   "version": "3.11.8"
  }
 },
 "nbformat": 4,
 "nbformat_minor": 5
}
